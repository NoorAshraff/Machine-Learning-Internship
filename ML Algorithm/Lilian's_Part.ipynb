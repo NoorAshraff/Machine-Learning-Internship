{
  "nbformat": 4,
  "nbformat_minor": 0,
  "metadata": {
    "colab": {
      "provenance": []
    },
    "kernelspec": {
      "name": "python3",
      "display_name": "Python 3"
    },
    "language_info": {
      "name": "python"
    }
  },
  "cells": [
    {
      "cell_type": "markdown",
      "source": [
        "# How does the Decision Tree algorithm Work?\n",
        "The decision tree operates by analyzing the data set to predict its classification. It commences from the tree’s root node, where the algorithm views the value of the root attribute compared to the attribute of the record in the actual data set. Based on the comparison, it proceeds to follow the branch and move to the next node.\n",
        "\n",
        "The algorithm repeats this action for every subsequent node by comparing its attribute values with those of the sub-nodes and continuing the process further. It repeats until it reaches the leaf node of the tree. The complete mechanism can be better explained through the algorithm given below.\n",
        "\n",
        "\n",
        "\n",
        "1.   Step-1: Begin the tree with the root node, says S, which contains the complete dataset.\n",
        "2.   Step-2: Find the best attribute in the dataset using Attribute Selection Measure (ASM).\n",
        "3. Step-3: Divide the S into subsets that contains possible values for the best attributes.\n",
        "\n",
        "\n",
        "4.  Step-4: Generate the decision tree node, which contains the best attribute.\n",
        "5.   Step-5: Recursively make new decision trees using the subsets of the dataset created in step -3. Continue this process until a stage is reached where you cannot further classify the nodes and called the final node as a leaf nodeClassification and Regression Tree algorithm."
      ],
      "metadata": {
        "id": "Rw1hkaTtPv0J"
      }
    },
    {
      "cell_type": "markdown",
      "source": [
        "# Steps of the code :\n",
        "\n",
        "\n",
        "1. Installing necessary libraries\n",
        "\n",
        "1. Importing needed libraries\n",
        "2.   Generate a decision tree\n",
        "4.   visualization the Decision tree\n",
        "2.   vactorizing the the categorical data\n",
        "\n",
        "1.   reading the data from txt file and run the whole code\n",
        "\n"
      ],
      "metadata": {
        "id": "of6PNnxPRGrk"
      }
    },
    {
      "cell_type": "markdown",
      "source": [
        "# Explanation of every part in the code 🐾 :"
      ],
      "metadata": {
        "id": "ItzVeDvJQ0-5"
      }
    },
    {
      "cell_type": "markdown",
      "source": [
        "## 1_ Block 1 & 2 of code :\n",
        "the code installs the pydotplus and scikit-learn packages and imports pandas, numpy, tree from scikit-learn, and pydotplus.\n",
        "\n",
        "1. pydotplus :  is a library commonly used for creating and visualizing graphs and diagrams in Python, particularly for tasks related to machine learning, decision trees, and graphical representations of data structures.\n",
        "2. scikit-learn : This is the name of the Python package that you want to install. Scikit-learn is commonly used for machine learning and data analysis tasks in Python.\n",
        "3. Pandas : Pandas is a powerful library for data manipulation and analysis in Python.\n",
        "4. NumPy : NumPy is a fundamental library for numerical and array operations in Python.\n",
        "5. Tree : tree module provides functionality for decision trees, which are a type of machine learning model. You can use this module to create, train, and visualize decision trees.\n",
        "6. pydotplus : pydotplus library, which is a Python interface to Graphviz, a graph visualization tool. It's often used in combination with scikit-learn to visualize decision trees and other machine learning models.\n"
      ],
      "metadata": {
        "id": "Jx8RKVsVQ1BQ"
      }
    },
    {
      "cell_type": "code",
      "source": [
        "!pip install pydotplus\n",
        "!pip install scikit-learn"
      ],
      "metadata": {
        "colab": {
          "base_uri": "https://localhost:8080/"
        },
        "id": "qC_6xw1_PjLU",
        "outputId": "7bec5ada-50d2-4c64-d73b-b962236391e6"
      },
      "execution_count": null,
      "outputs": [
        {
          "output_type": "stream",
          "name": "stdout",
          "text": [
            "Requirement already satisfied: pydotplus in /usr/local/lib/python3.10/dist-packages (2.0.2)\n",
            "Requirement already satisfied: pyparsing>=2.0.1 in /usr/local/lib/python3.10/dist-packages (from pydotplus) (3.1.1)\n",
            "Requirement already satisfied: scikit-learn in /usr/local/lib/python3.10/dist-packages (1.2.2)\n",
            "Requirement already satisfied: numpy>=1.17.3 in /usr/local/lib/python3.10/dist-packages (from scikit-learn) (1.23.5)\n",
            "Requirement already satisfied: scipy>=1.3.2 in /usr/local/lib/python3.10/dist-packages (from scikit-learn) (1.11.2)\n",
            "Requirement already satisfied: joblib>=1.1.1 in /usr/local/lib/python3.10/dist-packages (from scikit-learn) (1.3.2)\n",
            "Requirement already satisfied: threadpoolctl>=2.0.0 in /usr/local/lib/python3.10/dist-packages (from scikit-learn) (3.2.0)\n"
          ]
        }
      ]
    },
    {
      "cell_type": "code",
      "source": [
        "import pandas as pd # dataframe\n",
        "import numpy as np # array\n",
        "from sklearn import tree\n",
        "import pydotplus"
      ],
      "metadata": {
        "id": "r5VJf6X9v40v"
      },
      "execution_count": null,
      "outputs": []
    },
    {
      "cell_type": "markdown",
      "source": [
        "## 3_ Generate a decision tree :\n",
        "In summary, this code defines a function that takes a training dataset as input, extracts features and labels from it, creates a decision tree classifier, trains the classifier on the data, and returns the trained classifier. It's a basic implementation of a decision tree classifier using scikit-learn."
      ],
      "metadata": {
        "id": "7wSeh3qgT5Sm"
      }
    },
    {
      "cell_type": "code",
      "source": [
        "def createTree(trainingData):\n",
        "  #  selects all rows and all columns except the last one, which is assumed to be the label column ( Feature matrix)\n",
        "    X_tain = trainingData.iloc[:, :-1]\n",
        "\n",
        "    #  DataFrame. It selects all rows and only the last column, which is assumed to be the label column.\n",
        "    labels = trainingData.iloc[:, -1]\n",
        "\n",
        "    #It configures the classifier to use the \"entropy\" criterion (ASM), which is a measure of impurity in calssification used to make decisions about splitting the tree nodes\n",
        "    trainedTree = tree.DecisionTreeClassifier(criterion=\"entropy\")\n",
        "\n",
        "    # This is where the actual learning or training of the decision tree model takes place.\n",
        "    # The model will learn to make decisions based on the features and labels provided in the training data.\n",
        "    trainedTree.fit(data, labels)  # Train the model.\n",
        "    return trainedTree"
      ],
      "metadata": {
        "id": "O5wuX9Rvv43E"
      },
      "execution_count": null,
      "outputs": []
    },
    {
      "cell_type": "markdown",
      "source": [
        "### 4_ visualization the Decision tree :\n",
        "In summary, this code defines a function that takes a trained decision tree classifier, generates a visualization of the decision tree in the DOT format using Graphviz, and saves the tree diagram as a PDF file with the provided filename. This function is useful for visualizing decision trees generated by machine learning models."
      ],
      "metadata": {
        "id": "4IJq9YkiZuWi"
      }
    },
    {
      "cell_type": "code",
      "source": [
        "# the function takes two arguments: trainedTree (the trained decision tree classifier) and\n",
        "# finename (the name of the PDF file where the tree diagram will be saved).\n",
        "def showtree2pdf(trainedTree,finename):\n",
        "\n",
        "  # export_graphviz: it is used to export a decision tree in a format that can be visualized using Graphviz, a graph visualization tool.\n",
        "  #out_file=None: It specifies where to write the output DOT format data.\n",
        "  #means that the DOT data should not be saved to a file but should instead be stored in the variable dot_data as a string.\n",
        "\n",
        "    dot_data = tree.export_graphviz(trainedTree, out_file=None)\n",
        "\n",
        "    # Here, the DOT data (dot_data) is passed to pydotplus.graph_from_dot_data,\n",
        "    # which creates a Graphviz graph object (graph) from the DOT data. This graph will represent the decision tree structure.\n",
        "    graph = pydotplus.graph_from_dot_data(dot_data)\n",
        "\n",
        "    # Finally, this line saves the Graphviz graph as a PDF file with the specified filename (finename).\n",
        "    graph.write_pdf(finename)  # Save the tree diagram to the local machine in PDF format."
      ],
      "metadata": {
        "id": "OQpVoY1Qv45i"
      },
      "execution_count": null,
      "outputs": []
    },
    {
      "cell_type": "markdown",
      "source": [
        "## 5_ vactorizing the the categorical data :\n",
        "In summary, this function is designed to take a Pandas DataFrame containing categorical data, convert the categorical columns into numerical representations, and return the modified DataFrame. This type of transformation is often necessary when working with machine learning algorithms that require numerical input data. However, please note that the code assumes that all columns except the last one are categorical.\n"
      ],
      "metadata": {
        "id": "tOa50-7CbDCZ"
      }
    },
    {
      "cell_type": "code",
      "source": [
        "def data2vectoc(data):\n",
        "  #This line extracts the names of all columns in the data DataFrame.\n",
        "    names = data.columns\n",
        "\n",
        "    for i in names:\n",
        "      #his line creates a Pandas Categorical object (col) from the data in the current column data[i].\n",
        "      #Categorical data typically represents discrete values\n",
        "        col = pd.Categorical(data[i])\n",
        "\n",
        "      #This line replaces the values in the current column data[i] with the numerical codes assigned to the categories in the col Categorical object.\n",
        "      # The .codes attribute of a Categorical object returns the integer codes corresponding to the categories.\n",
        "        data[i] = col.codes\n",
        "    return data"
      ],
      "metadata": {
        "id": "dnuS75DCv48C"
      },
      "execution_count": null,
      "outputs": []
    },
    {
      "cell_type": "markdown",
      "source": [
        "## 6_reading the data from txt file and run the whole code :\n"
      ],
      "metadata": {
        "id": "H45nTfHgd4h_"
      }
    },
    {
      "cell_type": "code",
      "source": [
        "#pd.read_table is used to read data from a text file where the columns are separated by a tab character ('\\t').\n",
        "# header=None indicates that there is no header row in the file, so the columns will be indexed numerically.\n",
        "data = pd.read_table(\"tennis.txt\",header=None,sep='\\t')\n",
        "\n",
        "# Apply Vectorization for data\n",
        "trainingvec=data2vectoc(data)\n",
        "\n",
        "# printin the data to make sure that we convert the caegorical data into numerical\n",
        "print(data)\n",
        "\n",
        "# greation the tree\n",
        "decisionTree=createTree(trainingvec)\n",
        "\n",
        "# Plot the decision tree in tennis.pdf file , you will find it in the same directory of the tennis.txt file\n",
        "showtree2pdf(decisionTree,\"tennis.pdf\")"
      ],
      "metadata": {
        "colab": {
          "base_uri": "https://localhost:8080/"
        },
        "id": "3IgMOftvv4_C",
        "outputId": "cce99a63-cd31-4dd4-ae30-b9b7d387be53"
      },
      "execution_count": null,
      "outputs": [
        {
          "output_type": "stream",
          "name": "stdout",
          "text": [
            "    0  1  2  3  4\n",
            "0   2  1  0  1  0\n",
            "1   2  1  0  0  0\n",
            "2   0  1  0  1  1\n",
            "3   1  2  0  1  1\n",
            "4   1  0  1  1  1\n",
            "5   1  0  1  0  0\n",
            "6   0  0  1  0  1\n",
            "7   2  2  0  1  0\n",
            "8   2  0  1  1  1\n",
            "9   1  2  1  1  1\n",
            "10  2  2  1  0  1\n",
            "11  0  2  0  0  1\n",
            "12  0  1  1  1  1\n",
            "13  1  2  0  0  0\n"
          ]
        }
      ]
    }
  ]
}